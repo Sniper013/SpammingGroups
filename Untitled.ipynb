{
 "cells": [
  {
   "cell_type": "code",
   "execution_count": 16,
   "metadata": {},
   "outputs": [],
   "source": [
    "import os\n",
    "import csv\n",
    "import pandas as pd"
   ]
  },
  {
   "cell_type": "code",
   "execution_count": 17,
   "metadata": {},
   "outputs": [],
   "source": [
    "def SettingRoot():\n",
    "    root=os.getcwd()\n",
    "    print(root)\n",
    "    return root"
   ]
  },
  {
   "cell_type": "code",
   "execution_count": 22,
   "metadata": {},
   "outputs": [],
   "source": [
    "def SanityUpstream():\n",
    "    print(\"Running Upstream Sanity Automation\")\n",
    "    print(\"*******************************************\")\n",
    "    print(\"Project currently in Upstream Sanity\")\n",
    "    modules={}\n",
    "    count=0\n",
    "    number_of_projects=0\n",
    "    for projects in os.listdir():\n",
    "        if str(projects.split('.')[-1])!='xlsx':  #just checking for excel files\n",
    "            #print(projects)\n",
    "            pass\n",
    "        else:\n",
    "            data=pd.read_excel(projects)\n",
    "            df=pd.DataFrame(data,columns=['Module','Stage 1'])\n",
    "            df=df.dropna()\n",
    "            df=df.loc[df['Stage 1'] == 'not updated']\n",
    "            undone_module=df['Module'].tolist()\n",
    "            for i in undone_module:\n",
    "                if str(i) in modules:\n",
    "                    temp=modules[str(i)]\n",
    "                    temp.append(str(projects).split('.')[0])\n",
    "                    modules[str(i)]=temp\n",
    "                else:\n",
    "                    modules[str(i)]=[str(projects).split('.')[0]]\n",
    "            count+=1\n",
    "            print(projects.split('.')[0])\n",
    "    print(\"----------Module wise-----------\")\n",
    "    for i in modules:\n",
    "        print(i,modules[i])"
   ]
  },
  {
   "cell_type": "code",
   "execution_count": 29,
   "metadata": {},
   "outputs": [],
   "source": [
    "def DeltaMerge():\n",
    "    modules={}\n",
    "    print(\"Running Delta Merge Automation\")\n",
    "    print(\"***************************************\")\n",
    "    print(\"Projects currently in Delta Merge Stage\")\n",
    "    count=0\n",
    "    number_of_projects=0\n",
    "    for projects in os.listdir():\n",
    "        if str(projects.split('.')[-1])!='xlsx':  #just checking for excel files\n",
    "            #print(projects)\n",
    "            pass\n",
    "        else:\n",
    "            data=pd.read_excel(projects)\n",
    "            #print(data)\n",
    "            df=pd.DataFrame(data,columns=['Part Module','Delta Status'])\n",
    "            df=df.dropna()\n",
    "            df=df.loc[df['Delta Status'] == 'Not Confirmed']\n",
    "            #print(df)\n",
    "            undone_module=df['Part Module'].tolist()\n",
    "            for i in undone_module:\n",
    "                if str(i) in modules:\n",
    "                    temp=modules[str(i)]\n",
    "                    temp.append(str(projects).split('.')[0])\n",
    "                    modules[str(i)]=temp\n",
    "                else:\n",
    "                    modules[str(i)]=[str(projects).split('.')[0]]\n",
    "            count+=1\n",
    "            print(projects.split('.')[0])\n",
    "    print(\"----------Module wise-----------\")\n",
    "    for i in modules:\n",
    "        print(i,modules[i])"
   ]
  },
  {
   "cell_type": "code",
   "execution_count": 30,
   "metadata": {},
   "outputs": [],
   "source": [
    "def main():\n",
    "    root=SettingRoot()\n",
    "    print(\"Spam Automation\")\n",
    "    print(\"Enter Choice\")\n",
    "    print(\"1. Run Delta\")\n",
    "    print(\"2. Run Upstream\")\n",
    "    print(\"3. Exit\")\n",
    "    choice=int(input())\n",
    "    if choice==1:\n",
    "        deltamerge=root+\"\\DeltaMerge\"\n",
    "        os.chdir(deltamerge)\n",
    "        DeltaMerge()\n",
    "        os.chdir(root)\n",
    "    elif choice==2:\n",
    "        upstream=root+\"\\SanityUpstream\"\n",
    "        os.chdir(upstream)\n",
    "        SanityUpstream()\n",
    "        os.chdir(root)\n",
    "    else:\n",
    "        print(\"Closing\")"
   ]
  },
  {
   "cell_type": "code",
   "execution_count": 31,
   "metadata": {},
   "outputs": [
    {
     "name": "stdout",
     "output_type": "stream",
     "text": [
      "C:\\Users\\rashi\\Desktop\\testing\n",
      "Spam Automation\n",
      "Enter Choice\n",
      "1. Run Delta\n",
      "2. Run Upstream\n",
      "3. Exit\n",
      "1\n",
      "Running Delta Merge Automation\n",
      "***************************************\n",
      "Projects currently in Delta Merge Stage\n",
      "387_TMO\n",
      "597_VZW\n",
      "J20_SEA\n",
      "----------Module wise-----------\n",
      "Secure Boot ['387_TMO', 'J20_SEA']\n",
      "Camera Apps ['387_TMO', 'J20_SEA']\n",
      "Codec ['387_TMO', '597_VZW', 'J20_SEA']\n",
      "Kernel Diff ['387_TMO', '597_VZW']\n",
      "Homescreen ['387_TMO']\n",
      "Audio Core ['597_VZW']\n",
      "MUIC ['597_VZW']\n",
      "BSP ['597_VZW']\n",
      "USB ['J20_SEA']\n",
      "SSRM ['J20_SEA']\n"
     ]
    }
   ],
   "source": [
    "if __name__==\"__main__\":\n",
    "    main()"
   ]
  },
  {
   "cell_type": "code",
   "execution_count": 27,
   "metadata": {},
   "outputs": [],
   "source": [
    "os.chdir(r'C:\\Users\\rashi\\Desktop\\testing')"
   ]
  },
  {
   "cell_type": "code",
   "execution_count": null,
   "metadata": {},
   "outputs": [],
   "source": []
  }
 ],
 "metadata": {
  "kernelspec": {
   "display_name": "Python 3",
   "language": "python",
   "name": "python3"
  },
  "language_info": {
   "codemirror_mode": {
    "name": "ipython",
    "version": 3
   },
   "file_extension": ".py",
   "mimetype": "text/x-python",
   "name": "python",
   "nbconvert_exporter": "python",
   "pygments_lexer": "ipython3",
   "version": "3.8.2"
  }
 },
 "nbformat": 4,
 "nbformat_minor": 4
}
