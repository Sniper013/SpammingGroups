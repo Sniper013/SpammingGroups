{
 "cells": [
  {
   "cell_type": "code",
   "execution_count": 4,
   "metadata": {},
   "outputs": [],
   "source": [
    "import os\n",
    "import csv\n",
    "import pandas as pd"
   ]
  },
  {
   "cell_type": "code",
   "execution_count": 5,
   "metadata": {},
   "outputs": [],
   "source": [
    "def SettingRoot():\n",
    "    root=os.getcwd()\n",
    "    #print(root)\n",
    "    return root"
   ]
  },
  {
   "cell_type": "code",
   "execution_count": 6,
   "metadata": {},
   "outputs": [],
   "source": [
    "def SetPirority(temp_projects):\n",
    "    print(\"Enter Pirority of projects. 1 means highest\")\n",
    "    projects={}\n",
    "    check={}\n",
    "    for i in range(0,len(temp_projects)):\n",
    "        temp=int(input('Enter for '+str(temp_projects[i])+':'))\n",
    "        while(temp<=0 or temp>len(temp_projects) or temp in check):\n",
    "            print(\"Invalid input. Try again\")\n",
    "            temp=int(input('Enter for '+str(temp_projects[i])+':'))\n",
    "        check[temp]=0\n",
    "        projects[temp_projects[i]]=temp\n",
    "        #print(check,temp)\n",
    "    return projects"
   ]
  },
  {
   "cell_type": "code",
   "execution_count": 7,
   "metadata": {},
   "outputs": [],
   "source": [
    "def Arrange_by_pirority(modules,pirority):\n",
    "    for i in modules:\n",
    "        temp_old=modules[i]\n",
    "        temp_new=[0 for i in range(0,len(pirority))]\n",
    "        for items in temp_old:\n",
    "            pirority_of_current=pirority[items]\n",
    "            temp_new[pirority_of_current-1]=items\n",
    "        while len(temp_new)!=len(temp_old):\n",
    "            temp_new.remove(0)\n",
    "        modules[i]=temp_new\n",
    "    return modules"
   ]
  },
  {
   "cell_type": "code",
   "execution_count": 8,
   "metadata": {},
   "outputs": [],
   "source": [
    "def Message(path,module,project):\n",
    "    if path==0:\n",
    "        mode='Delta Merge'\n",
    "    else:\n",
    "        mode=\"Upstream Sanity\"\n",
    "    module_file=open(str(module)+'.txt','w')\n",
    "    output_message=\"Reminder Team, \"+str(mode)+\" of module: \"+str(module)+\" is remaining from your side for the following projects.\"+\"\\n\"\n",
    "    module_file.write(output_message)\n",
    "    for i in project:\n",
    "        module_file.write(i+\"\\n\")\n",
    "    module_file.write(\"Kindly finish it soon\")\n",
    "    module_file.close()"
   ]
  },
  {
   "cell_type": "code",
   "execution_count": 9,
   "metadata": {},
   "outputs": [],
   "source": [
    "def SanityUpstream():\n",
    "    print(\"Running Upstream Sanity Automation\")\n",
    "    print(\"*******************************************\")\n",
    "    print(\"Project currently in Upstream Sanity\")\n",
    "    modules={}\n",
    "    temp_projects=[]\n",
    "    for projects in os.listdir():\n",
    "        if str(projects.split('.')[-1])!='xlsx':  #just checking for excel files\n",
    "            #print(projects)\n",
    "            pass\n",
    "        else:\n",
    "            data=pd.read_excel(projects)\n",
    "            df=pd.DataFrame(data,columns=['Module','Stage 1'])\n",
    "            df=df.dropna()\n",
    "            df=df.loc[df['Stage 1'] == 'not updated']\n",
    "            undone_module=df['Module'].tolist()\n",
    "            for i in undone_module:\n",
    "                if str(i) in modules:\n",
    "                    temp=modules[str(i)]\n",
    "                    temp.append(str(projects).split('.')[0])\n",
    "                    modules[str(i)]=temp\n",
    "                else:\n",
    "                    modules[str(i)]=[str(projects).split('.')[0]]\n",
    "            print(projects.split('.')[0])\n",
    "            temp_projects.append(projects.split('.')[0])\n",
    "    pirority=SetPirority(temp_projects)\n",
    "    print(\"----------Module wise-----------\")\n",
    "    modules=Arrange_by_pirority(modules,pirority)\n",
    "    for i in modules:\n",
    "        print(i,modules[i])\n",
    "    print(\"---------Preparing Messages-----------\")\n",
    "    mode=1\n",
    "    for i in modules:\n",
    "        Message(mode,i,modules[i])\n",
    "    print(\"--------Message Prepared----------\")"
   ]
  },
  {
   "cell_type": "code",
   "execution_count": 13,
   "metadata": {},
   "outputs": [],
   "source": [
    "def DeltaMerge():\n",
    "    modules={}\n",
    "    print(\"Running Delta Merge Automation\")\n",
    "    print(\"***************************************\")\n",
    "    print(\"Projects currently in Delta Merge Stage\")\n",
    "    temp_projects=[]\n",
    "    for projects in os.listdir():\n",
    "        if str(projects.split('.')[-1])!='xls':  #just checking for excel files\n",
    "            print(\"not allowded :\"+str(projects))\n",
    "            pass\n",
    "        else:\n",
    "            data=pd.read_excel(projects)\n",
    "            #print(data)\n",
    "            df=pd.DataFrame(data,columns=['Part Module','Delta Status'])\n",
    "            df=df.dropna()\n",
    "            df=df.loc[df['Delta Status'] == 'Not Confirmed']\n",
    "            #print(df)\n",
    "            undone_module=df['Part Module'].tolist()\n",
    "            for i in undone_module:\n",
    "                if str(i) in modules:\n",
    "                    temp=modules[str(i)]\n",
    "                    temp.append(str(projects).split('.')[0])\n",
    "                    modules[str(i)]=temp\n",
    "                else:\n",
    "                    modules[str(i)]=[str(projects).split('.')[0]]\n",
    "            print(projects.split('.')[0])\n",
    "            temp_projects.append(projects.split('.')[0])\n",
    "    pirority=SetPirority(temp_projects)\n",
    "    print(\"----------Module wise-----------\")\n",
    "    modules=Arrange_by_pirority(modules,pirority)\n",
    "    for i in modules:\n",
    "        print(i,modules[i])\n",
    "    print(\"---------Preparing Messages-----------\")\n",
    "    mode=0\n",
    "    for i in modules:\n",
    "        Message(mode,i,modules[i])\n",
    "    print(\"--------Message Prepared----------\")"
   ]
  },
  {
   "cell_type": "code",
   "execution_count": 15,
   "metadata": {},
   "outputs": [],
   "source": [
    "def main():\n",
    "    root=SettingRoot()\n",
    "    choice=0\n",
    "    while choice<1 or choice>3:\n",
    "        print(\"Spam Automation\")\n",
    "        print(\"Enter Choice\")\n",
    "        print(\"1. Run Delta\")\n",
    "        print(\"2. Run Upstream\")\n",
    "        print(\"3. Exit\")\n",
    "        choice=int(input())\n",
    "        if choice==1:\n",
    "            deltamerge=root+\"\\DeltaMerge\"\n",
    "            os.chdir(deltamerge)\n",
    "            DeltaMerge()\n",
    "            os.chdir(root)\n",
    "        elif choice==2:\n",
    "            upstream=root+\"\\SanityUpstream\"\n",
    "            os.chdir(upstream)\n",
    "            SanityUpstream()\n",
    "            os.chdir(root)\n",
    "        elif choice==3:\n",
    "            print(\"Closing\")\n",
    "        else:\n",
    "            print(\"Wrong choice. Enter Again\")"
   ]
  },
  {
   "cell_type": "code",
   "execution_count": 16,
   "metadata": {},
   "outputs": [
    {
     "name": "stdout",
     "output_type": "stream",
     "text": [
      "Spam Automation\n",
      "Enter Choice\n",
      "1. Run Delta\n",
      "2. Run Upstream\n",
      "3. Exit\n",
      "1\n",
      "Running Delta Merge Automation\n",
      "***************************************\n",
      "Projects currently in Delta Merge Stage\n",
      "387_TMO\n",
      "597_VZW\n",
      "J20_SEA\n",
      "Enter Pirority of projects. 1 means highest\n",
      "Enter for 387_TMO:3\n",
      "Enter for 597_VZW:1\n",
      "Enter for J20_SEA:2\n",
      "----------Module wise-----------\n",
      "Secure Boot ['J20_SEA', '387_TMO']\n",
      "Camera Apps ['J20_SEA', '387_TMO']\n",
      "Codec ['597_VZW', 'J20_SEA', '387_TMO']\n",
      "Kernel Diff ['597_VZW', '387_TMO']\n",
      "Homescreen ['387_TMO']\n",
      "Audio Core ['597_VZW']\n",
      "MUIC ['597_VZW']\n",
      "BSP ['597_VZW']\n",
      "USB ['J20_SEA']\n",
      "SSRM ['J20_SEA']\n",
      "---------Preparing Messages-----------\n",
      "--------Message Prepared----------\n"
     ]
    }
   ],
   "source": [
    "if __name__==\"__main__\":\n",
    "    main()"
   ]
  },
  {
   "cell_type": "code",
   "execution_count": 14,
   "metadata": {},
   "outputs": [],
   "source": [
    "os.chdir(r'C:\\Users\\rashi\\Desktop\\testing')"
   ]
  },
  {
   "cell_type": "code",
   "execution_count": null,
   "metadata": {},
   "outputs": [],
   "source": []
  }
 ],
 "metadata": {
  "kernelspec": {
   "display_name": "Python 3",
   "language": "python",
   "name": "python3"
  },
  "language_info": {
   "codemirror_mode": {
    "name": "ipython",
    "version": 3
   },
   "file_extension": ".py",
   "mimetype": "text/x-python",
   "name": "python",
   "nbconvert_exporter": "python",
   "pygments_lexer": "ipython3",
   "version": "3.8.2"
  }
 },
 "nbformat": 4,
 "nbformat_minor": 4
}
